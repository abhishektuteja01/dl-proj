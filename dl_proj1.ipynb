{
  "nbformat": 4,
  "nbformat_minor": 0,
  "metadata": {
    "colab": {
      "name": "test_ocr",
      "provenance": [],
      "collapsed_sections": [],
      "include_colab_link": true
    },
    "kernelspec": {
      "name": "python3",
      "display_name": "Python 3"
    },
    "accelerator": "GPU"
  },
  "cells": [
    {
      "cell_type": "markdown",
      "metadata": {
        "id": "view-in-github",
        "colab_type": "text"
      },
      "source": [
        "<a href=\"https://colab.research.google.com/github/abhishektuteja01/dl-proj/blob/main/test_ocr.ipynb\" target=\"_parent\"><img src=\"https://colab.research.google.com/assets/colab-badge.svg\" alt=\"Open In Colab\"/></a>"
      ]
    },
    {
      "cell_type": "code",
      "metadata": {
        "id": "tuNwaR2uVy7N"
      },
      "source": [
        "!pip install pytesseract\n",
        "!sudo apt-get install tesseract-ocr-ind"
      ],
      "execution_count": null,
      "outputs": []
    },
    {
      "cell_type": "code",
      "metadata": {
        "id": "q8yczm7WsQgt"
      },
      "source": [
        "  def display(img,cmap='gray'):\n",
        "    fig = plt.figure(figsize=(12,10))\n",
        "    ax = fig.add_subplot(111)\n",
        "    ax.imshow(img,cmap='gray')"
      ],
      "execution_count": null,
      "outputs": []
    },
    {
      "cell_type": "code",
      "metadata": {
        "id": "4VpJiAJxXR2V"
      },
      "source": [
        "import cv2\n",
        "import numpy as np\n",
        "import pytesseract\n",
        "import matplotlib.pyplot as plt\n",
        "import pandas as pd\n",
        "from PIL import Image"
      ],
      "execution_count": null,
      "outputs": []
    },
    {
      "cell_type": "code",
      "metadata": {
        "id": "p23vC9t4qkyQ"
      },
      "source": [
        "img = cv2.imread(\"/content/sample.jpg\")\n",
        "gray = cv2.cvtColor(img, cv2.COLOR_BGR2GRAY)\n",
        "th, threshed = cv2.threshold(gray, 127, 255, cv2.THRESH_TRUNC)\n",
        "\n",
        "text1 = pytesseract.image_to_data(threshed, lang=\"ind\",output_type='data.frame')\n",
        "text = text1[text1.conf != -1]\n",
        "lines = text.groupby('block_num')['text'].apply(list)\n",
        "conf = text.groupby(['block_num'])['conf'].mean()"
      ],
      "execution_count": null,
      "outputs": []
    },
    {
      "cell_type": "code",
      "metadata": {
        "id": "fIOipzcgvUNt"
      },
      "source": [
        "pd.set_option('max_columns', None)\n",
        "pd.set_option('display.max_rows', text.shape[0]+1)"
      ],
      "execution_count": null,
      "outputs": []
    },
    {
      "cell_type": "code",
      "metadata": {
        "id": "OLqM1g0GqzNu"
      },
      "source": [
        "print(\"text1 : \\n\")\n",
        "print(text1,\"\\n\\n\")\n",
        "\n",
        "print(\"text : \\n\")\n",
        "print(text, \"\\n\\n\")\n",
        "  \n",
        "print(\"lines : \\n\")\n",
        "for i in range(len(lines)):\n",
        "  print(\"level\", i, \": \", lines.iloc[i])\n",
        "\n",
        "print(\"\\n\\n conf : \\n\")\n",
        "print(conf)"
      ],
      "execution_count": null,
      "outputs": []
    },
    {
      "cell_type": "code",
      "metadata": {
        "id": "s2IvBD4LoiLs",
        "outputId": "b1be021e-5760-493a-8baa-ef43b76ec3db",
        "colab": {
          "base_uri": "https://localhost:8080/",
          "height": 34
        }
      },
      "source": [
        "from pytesseract import Output\n",
        "\n",
        "img = cv2.imread('/content/sample.jpg')\n",
        "\n",
        "d = pytesseract.image_to_data(img, output_type=Output.DICT)\n",
        "print(d.keys())"
      ],
      "execution_count": null,
      "outputs": [
        {
          "output_type": "stream",
          "text": [
            "dict_keys(['level', 'page_num', 'block_num', 'par_num', 'line_num', 'word_num', 'left', 'top', 'width', 'height', 'conf', 'text'])\n"
          ],
          "name": "stdout"
        }
      ]
    },
    {
      "cell_type": "code",
      "metadata": {
        "id": "ZiP0LwG1oi7y"
      },
      "source": [
        "n_boxes = len(text1['text'])\n",
        "for i in range(n_boxes):\n",
        "    if int(text1['conf'][i]) > 60:\n",
        "        (x, y, w, h) = (text1['left'][i], text1['top'][i], text1['width'][i], text1['height'][i])\n",
        "        img = cv2.rectangle(img, (x, y), (x + w, y + h), (0, 255, 0), 2)\n",
        "\n",
        "display(img)"
      ],
      "execution_count": null,
      "outputs": []
    },
    {
      "cell_type": "code",
      "metadata": {
        "id": "nqqfoR37vJ2q"
      },
      "source": [
        ""
      ],
      "execution_count": null,
      "outputs": []
    }
  ]
}
